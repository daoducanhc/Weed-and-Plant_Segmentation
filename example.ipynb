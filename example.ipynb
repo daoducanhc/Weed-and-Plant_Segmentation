{
 "metadata": {
  "language_info": {
   "codemirror_mode": {
    "name": "ipython",
    "version": 3
   },
   "file_extension": ".py",
   "mimetype": "text/x-python",
   "name": "python",
   "nbconvert_exporter": "python",
   "pygments_lexer": "ipython3",
   "version": "3.8.3"
  },
  "orig_nbformat": 2,
  "kernelspec": {
   "name": "python3",
   "display_name": "Python 3.8.3 64-bit ('deep': conda)",
   "metadata": {
    "interpreter": {
     "hash": "78cf35616b8723687b1ffdae63d61b6f66532bbdc33d59717b3ab4345efe7822"
    }
   }
  }
 },
 "nbformat": 4,
 "nbformat_minor": 2,
 "cells": [
  {
   "cell_type": "code",
   "execution_count": 1,
   "metadata": {},
   "outputs": [
    {
     "output_type": "stream",
     "name": "stdout",
     "text": [
      "cpu\n"
     ]
    }
   ],
   "source": [
    "import os\n",
    "import torch\n",
    "import numpy as np\n",
    "import setup.dataset as dataset\n",
    "import setup.ResUNet as ResUNet\n",
    "import setup.classifier as classifier\n",
    "from torch.utils.data import SubsetRandomSampler\n",
    "from PIL import Image\n",
    "import matplotlib.pyplot as plt\n",
    "import cv2\n",
    "\n",
    "np.random.seed(0)\n",
    "torch.manual_seed(0)\n",
    "\n",
    "DATASET_PATH = 'dataset'\n",
    "\n",
    "device = torch.device('cuda' if torch.cuda.is_available() else 'cpu')\n",
    "print(device)\n",
    "\n",
    "def sampler_indices(length):\n",
    "    indices = list(range(length))\n",
    "    np.random.shuffle(indices)\n",
    "    split = int(np.floor(0.1 * length))\n",
    "    test_indices = indices[:split]\n",
    "    return test_indices\n",
    "\n",
    "tumor_dataset = dataset.WeedDataset(DATASET_PATH)\n",
    "\n",
    "# train_indices, valid_indices, test_indices = [8, 17, 22, 33, 39, 59 ,60, 61, 65], [80, 81, 85], [112, 39, 59 ,60, 61, 65]\n",
    "test_indices = sampler_indices(len(tumor_dataset))\n",
    "test_sampler = SubsetRandomSampler(test_indices)\n",
    "\n",
    "test_loader = torch.utils.data.DataLoader(tumor_dataset, batch_size=1, sampler=test_sampler)\n",
    "\n",
    "FILTER_LIST = [16,32,64,128,256]\n",
    "\n",
    "model = ResUNet.ResUNet(FILTER_LIST).to(device)\n",
    "path = 'outputs/ResUNet.pt'\n",
    "\n",
    "classifier = classifier.WeedClassifier(model, device)\n",
    "\n",
    "if str(device) == 'cpu':\n",
    "    classifier.model.load_state_dict(torch.load(path, map_location='cpu'))\n",
    "else:\n",
    "    classifier.model.load_state_dict(torch.load(path))"
   ]
  },
  {
   "cell_type": "code",
   "execution_count": 2,
   "metadata": {},
   "outputs": [],
   "source": [
    "def pil2cv(pil):\n",
    "    image = np.array(pil)\n",
    "    image = image[:, :, ::-1].copy()\n",
    "    return image\n"
   ]
  },
  {
   "cell_type": "code",
   "execution_count": 3,
   "metadata": {},
   "outputs": [],
   "source": [
    "i=0"
   ]
  },
  {
   "cell_type": "code",
   "execution_count": 14,
   "metadata": {},
   "outputs": [
    {
     "output_type": "stream",
     "name": "stdout",
     "text": [
      "Score 0.54998104227724\n"
     ]
    }
   ],
   "source": [
    "image_index = test_indices[i]\n",
    "sample = tumor_dataset[image_index]\n",
    "rgb, mask, output, score = classifier.predict(sample)\n",
    "\n",
    "print('Score', score)\n",
    "\n",
    "mask = Image.fromarray((mask * 255).astype(np.uint8))\n",
    "output = Image.fromarray((output * 255).astype(np.uint8))\n",
    "\n",
    "rgb = rgb.numpy().transpose(1, 2, 0)\n",
    "mask = pil2cv(mask)\n",
    "output = pil2cv(output)\n",
    "\n",
    "cv2.imshow('RGB', rgb)\n",
    "cv2.imshow('Original mask', mask)\n",
    "cv2.imshow('Predicted mask', output)\n",
    "cv2.waitKey(0)\n",
    "cv2.destroyAllWindows()\n",
    "\n",
    "\n",
    "i += 1\n",
    "if i >= len(test_indices):\n",
    "    i = 0 "
   ]
  }
 ]
}