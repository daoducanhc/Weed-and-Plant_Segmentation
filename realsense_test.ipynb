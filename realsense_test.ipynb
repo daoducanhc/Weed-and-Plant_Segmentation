{
 "metadata": {
  "language_info": {
   "codemirror_mode": {
    "name": "ipython",
    "version": 3
   },
   "file_extension": ".py",
   "mimetype": "text/x-python",
   "name": "python",
   "nbconvert_exporter": "python",
   "pygments_lexer": "ipython3",
   "version": "3.6.12-final"
  },
  "orig_nbformat": 2,
  "kernelspec": {
   "name": "python3",
   "display_name": "Python 3"
  }
 },
 "nbformat": 4,
 "nbformat_minor": 2,
 "cells": [
  {
   "cell_type": "code",
   "execution_count": 1,
   "metadata": {},
   "outputs": [
    {
     "output_type": "stream",
     "name": "stdout",
     "text": [
      "cpu\n"
     ]
    }
   ],
   "source": [
    "import os\n",
    "import torch\n",
    "import numpy as np\n",
    "import setup.dataset as dataset\n",
    "import setup.ResUNet as ResUNet\n",
    "import setup.classifier as classifier\n",
    "from torch.utils.data import SubsetRandomSampler\n",
    "from PIL import Image\n",
    "import matplotlib.pyplot as plt\n",
    "import inference.engine as engine\n",
    "import inference.inference as inference\n",
    "import torch.nn.functional as F\n",
    "import tensorrt as trt\n",
    "import matplotlib.pyplot as plt\n",
    "import matplotlib.image as mpimg\n",
    "\n",
    "np.random.seed(0)\n",
    "torch.manual_seed(0)\n",
    "\n",
    "DATASET_PATH = 'dataset_realsense'\n",
    "\n",
    "device = torch.device('cuda' if torch.cuda.is_available() else 'cpu')\n",
    "print(device)\n",
    "\n",
    "def sampler_indices(length):\n",
    "    indices = list(range(length))\n",
    "    np.random.shuffle(indices)\n",
    "    # split = int(np.floor(0.1 * length))\n",
    "    # test_indices = indices[:split]\n",
    "    return indices\n",
    "\n",
    "tumor_dataset = dataset.WeedDataset(DATASET_PATH)\n",
    "\n",
    "test_indices = sampler_indices(len(tumor_dataset))\n",
    "\n",
    "FILTER_LIST = [16,32,64,128,256]\n",
    "\n",
    "model = ResUNet.ResUNet(FILTER_LIST).to(device)\n",
    "path = 'outputs/ResUNet.pt'\n",
    "\n",
    "classifier = classifier.WeedClassifier(model, device)\n",
    "\n",
    "if str(device) == 'cpu':\n",
    "    classifier.model.load_state_dict(torch.load(path, map_location='cpu'))\n",
    "else:\n",
    "    classifier.model.load_state_dict(torch.load(path))"
   ]
  },
  {
   "cell_type": "code",
   "execution_count": 2,
   "metadata": {},
   "outputs": [],
   "source": [
    "def pil2cv(pil):\n",
    "    image = np.array(pil)\n",
    "    image = image[:, :, ::-1].copy()\n",
    "    return image\n"
   ]
  },
  {
   "cell_type": "code",
   "execution_count": 3,
   "metadata": {},
   "outputs": [],
   "source": [
    "i=0"
   ]
  },
  {
   "cell_type": "code",
   "execution_count": 4,
   "metadata": {},
   "outputs": [],
   "source": [
    "image_index = i\n",
    "sample = tumor_dataset[image_index]\n",
    "rgb, mask, output, score = classifier.predict(sample)\n",
    "\n",
    "rgb, mask, output, score = classifier.predict(sample)\n",
    "\n",
    "print('PyTorch score', score)\n",
    "\n",
    "engine = engine.load_engine('outputs/ResUNet.plan')\n",
    "input = sample['image'].view((-1, 4, 512, 512))\n",
    "\n",
    "inference_output = inference.do_inference(engine, input)\n",
    "\n",
    "print('Inference score', classifier.miou(inference_output, sample['mask']))\n",
    "\n",
    "\n",
    "# inference_output = F.softmax(inference_output, dim=1, dtype=DATA_TYPE)\n",
    "inference_output = torch.argmax(inference_output, dim=1)\n",
    "\n",
    "# unique, counts = np.unique(np.array(inference_output), return_counts=True)\n",
    "# print(dict(zip(unique, counts)))\n",
    "\n",
    "inference_output = classifier.decode_segmap(inference_output)\n",
    "\n",
    "# now inference_output treat same as output\n",
    "\n",
    "inference_output = Image.fromarray((inference_output * 255).astype(np.uint8))\n",
    "\n",
    "unique, counts = np.unique(np.array(inference_output), return_counts=True)\n",
    "print(dict(zip(unique, counts)))\n",
    "\n",
    "output = Image.fromarray((output * 255).astype(np.uint8))\n",
    "unique, counts = np.unique(np.array(output), return_counts=True)\n",
    "print(dict(zip(unique, counts)))\n",
    "\n",
    "plt.imshow(inference_output)\n",
    "\n",
    "i += 1\n",
    "if i >= len(test_indices):\n",
    "    i = 0"
   ]
  },
  {
   "cell_type": "code",
   "execution_count": null,
   "metadata": {},
   "outputs": [],
   "source": []
  }
 ]
}