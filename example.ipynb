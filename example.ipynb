{
 "metadata": {
  "language_info": {
   "codemirror_mode": {
    "name": "ipython",
    "version": 3
   },
   "file_extension": ".py",
   "mimetype": "text/x-python",
   "name": "python",
   "nbconvert_exporter": "python",
   "pygments_lexer": "ipython3",
   "version": "3.8.5-final"
  },
  "orig_nbformat": 2,
  "kernelspec": {
   "name": "python3",
   "display_name": "Python 3"
  }
 },
 "nbformat": 4,
 "nbformat_minor": 2,
 "cells": [
  {
   "cell_type": "code",
   "execution_count": 1,
   "metadata": {},
   "outputs": [
    {
     "output_type": "stream",
     "name": "stdout",
     "text": [
      "cuda\n"
     ]
    }
   ],
   "source": [
    "import os\n",
    "import torch\n",
    "import numpy as np\n",
    "import setup.dataset as dataset\n",
    "import setup.ResUNet as ResUNet\n",
    "import setup.classifier as classifier\n",
    "from torch.utils.data import SubsetRandomSampler\n",
    "from PIL import Image\n",
    "import cv2\n",
    "\n",
    "np.random.seed(0)\n",
    "torch.manual_seed(0)\n",
    "\n",
    "DATASET_PATH = 'dataset'\n",
    "\n",
    "device = torch.device('cuda' if torch.cuda.is_available() else 'cpu')\n",
    "print(device)\n",
    "\n",
    "def sampler_indices(length):\n",
    "    indices = list(range(length))\n",
    "    np.random.shuffle(indices)\n",
    "    split = int(np.floor(0.1 * length))\n",
    "    test_indices = indices[:split]\n",
    "    return test_indices\n",
    "\n",
    "weed_dataset = dataset.WeedDataset(DATASET_PATH)\n",
    "\n",
    "# train_indices, valid_indices, test_indices = [8, 17, 22, 33, 39, 59 ,60, 61, 65], [80, 81, 85], [112, 39, 59 ,60, 61, 65]\n",
    "test_indices = sampler_indices(len(weed_dataset))\n",
    "test_sampler = SubsetRandomSampler(test_indices)\n",
    "\n",
    "test_loader = torch.utils.data.DataLoader(weed_dataset, batch_size=1, sampler=test_sampler)\n",
    "\n",
    "FILTER_LIST = [16,32,64,128,256]\n",
    "\n",
    "model = ResUNet.ResUNet(FILTER_LIST).to(device)\n",
    "path = 'outputs/ResUNet.pt'\n",
    "\n",
    "classifier = classifier.WeedClassifier(model, device)\n",
    "\n",
    "if str(device) == 'cpu':\n",
    "    classifier.model.load_state_dict(torch.load(path, map_location='cpu'))\n",
    "else:\n",
    "    classifier.model.load_state_dict(torch.load(path))"
   ]
  },
  {
   "cell_type": "code",
   "execution_count": 2,
   "metadata": {},
   "outputs": [],
   "source": [
    "def pil2cv(pil):\n",
    "    image = np.array(pil)\n",
    "    image = image[:, :, ::-1].copy()\n",
    "    return image\n"
   ]
  },
  {
   "cell_type": "code",
   "execution_count": 3,
   "metadata": {},
   "outputs": [],
   "source": [
    "i=0"
   ]
  },
  {
   "cell_type": "code",
   "execution_count": 6,
   "metadata": {},
   "outputs": [
    {
     "output_type": "error",
     "ename": "RuntimeError",
     "evalue": "CUDA error: an illegal memory access was encountered",
     "traceback": [
      "\u001b[0;31m---------------------------------------------------------------------------\u001b[0m",
      "\u001b[0;31mRuntimeError\u001b[0m                              Traceback (most recent call last)",
      "\u001b[0;32m<ipython-input-6-525b70f3b382>\u001b[0m in \u001b[0;36m<module>\u001b[0;34m\u001b[0m\n\u001b[1;32m      6\u001b[0m \u001b[0msample\u001b[0m \u001b[0;34m=\u001b[0m \u001b[0mweed_dataset\u001b[0m\u001b[0;34m[\u001b[0m\u001b[0mimage_index\u001b[0m\u001b[0;34m]\u001b[0m\u001b[0;34m\u001b[0m\u001b[0;34m\u001b[0m\u001b[0m\n\u001b[1;32m      7\u001b[0m \u001b[0;34m\u001b[0m\u001b[0m\n\u001b[0;32m----> 8\u001b[0;31m \u001b[0mrgb\u001b[0m\u001b[0;34m,\u001b[0m \u001b[0mmask\u001b[0m\u001b[0;34m,\u001b[0m \u001b[0moutput\u001b[0m\u001b[0;34m,\u001b[0m \u001b[0mscore\u001b[0m \u001b[0;34m=\u001b[0m \u001b[0mclassifier\u001b[0m\u001b[0;34m.\u001b[0m\u001b[0mpredict\u001b[0m\u001b[0;34m(\u001b[0m\u001b[0msample\u001b[0m\u001b[0;34m)\u001b[0m\u001b[0;34m\u001b[0m\u001b[0;34m\u001b[0m\u001b[0m\n\u001b[0m\u001b[1;32m      9\u001b[0m \u001b[0mprint\u001b[0m\u001b[0;34m(\u001b[0m\u001b[0moutput\u001b[0m\u001b[0;34m.\u001b[0m\u001b[0mshape\u001b[0m\u001b[0;34m)\u001b[0m\u001b[0;34m\u001b[0m\u001b[0;34m\u001b[0m\u001b[0m\n\u001b[1;32m     10\u001b[0m \u001b[0mprint\u001b[0m\u001b[0;34m(\u001b[0m\u001b[0;34m'PyTorch score'\u001b[0m\u001b[0;34m,\u001b[0m \u001b[0mscore\u001b[0m\u001b[0;34m)\u001b[0m\u001b[0;34m\u001b[0m\u001b[0;34m\u001b[0m\u001b[0m\n",
      "\u001b[0;32m~/tung/Weed-and-Plant_Segmentation/setup/classifier.py\u001b[0m in \u001b[0;36mpredict\u001b[0;34m(self, data)\u001b[0m\n\u001b[1;32m    173\u001b[0m         \u001b[0mrgb\u001b[0m \u001b[0;34m=\u001b[0m \u001b[0mdata\u001b[0m\u001b[0;34m[\u001b[0m\u001b[0;34m'rgb'\u001b[0m\u001b[0;34m]\u001b[0m\u001b[0;34m\u001b[0m\u001b[0;34m\u001b[0m\u001b[0m\n\u001b[1;32m    174\u001b[0m \u001b[0;34m\u001b[0m\u001b[0m\n\u001b[0;32m--> 175\u001b[0;31m         \u001b[0mimage\u001b[0m \u001b[0;34m=\u001b[0m \u001b[0mimage\u001b[0m\u001b[0;34m.\u001b[0m\u001b[0mview\u001b[0m\u001b[0;34m(\u001b[0m\u001b[0;34m(\u001b[0m\u001b[0;34m-\u001b[0m\u001b[0;36m1\u001b[0m\u001b[0;34m,\u001b[0m \u001b[0;36m4\u001b[0m\u001b[0;34m,\u001b[0m \u001b[0;36m512\u001b[0m\u001b[0;34m,\u001b[0m \u001b[0;36m512\u001b[0m\u001b[0;34m)\u001b[0m\u001b[0;34m)\u001b[0m\u001b[0;34m.\u001b[0m\u001b[0mto\u001b[0m\u001b[0;34m(\u001b[0m\u001b[0mself\u001b[0m\u001b[0;34m.\u001b[0m\u001b[0mdevice\u001b[0m\u001b[0;34m)\u001b[0m\u001b[0;34m\u001b[0m\u001b[0;34m\u001b[0m\u001b[0m\n\u001b[0m\u001b[1;32m    176\u001b[0m \u001b[0;34m\u001b[0m\u001b[0m\n\u001b[1;32m    177\u001b[0m         \u001b[0moutput\u001b[0m \u001b[0;34m=\u001b[0m \u001b[0mself\u001b[0m\u001b[0;34m.\u001b[0m\u001b[0mmodel\u001b[0m\u001b[0;34m(\u001b[0m\u001b[0mimage\u001b[0m\u001b[0;34m)\u001b[0m\u001b[0;34m\u001b[0m\u001b[0;34m\u001b[0m\u001b[0m\n",
      "\u001b[0;31mRuntimeError\u001b[0m: CUDA error: an illegal memory access was encountered"
     ]
    }
   ],
   "source": [
    "import inference.engine as engine\n",
    "import inference.inference as inference\n",
    "import torch.nn.functional as F\n",
    "\n",
    "image_index = test_indices[i]\n",
    "sample = weed_dataset[image_index]\n",
    "\n",
    "rgb, mask, output, score = classifier.predict(sample)\n",
    "print(output.shape)\n",
    "print('PyTorch score', score)\n",
    "\n",
    "engine = engine.load_engine('outputs/ResUNet.plan')\n",
    "input = sample['image'].view((-1, 4, 512, 512))\n",
    "\n",
    "inference_output = inference.do_inference(engine, input, data_type=np.float16)\n",
    "\n",
    "# print('Inference score', classifier.miou(inference_output, sample['mask']))\n",
    "\n",
    "inference_output = F.softmax(inference_output, dim=1)\n",
    "inference_output = torch.argmax(inference_output, dim=1)\n",
    "\n",
    "inference_output = classifier.decode_segmap(inference_output)\n",
    "print(inference_output.shape)\n",
    "\n",
    "\n",
    "\n",
    "mask = Image.fromarray((mask * 255).astype(np.uint8))\n",
    "output = Image.fromarray((output * 255).astype(np.uint8))\n",
    "\n",
    "rgb = rgb.numpy().transpose(1, 2, 0)\n",
    "mask = pil2cv(mask)\n",
    "output = pil2cv(output)\n",
    "\n",
    "\n",
    "i += 1\n",
    "if i >= len(test_indices):\n",
    "    i = 0 "
   ]
  },
  {
   "cell_type": "code",
   "execution_count": 12,
   "metadata": {},
   "outputs": [
    {
     "output_type": "stream",
     "name": "stdout",
     "text": [
      "(512, 512, 3)\n{0.0: 262137, 1.0: 7}\n{0.0: 252091, 1.0: 10053}\n{0.0: 262144}\nScore 0.7627684587991165\n"
     ]
    }
   ],
   "source": [
    "image_index = test_indices[i]\n",
    "sample = weed_dataset[image_index]\n",
    "rgb, mask, output, score = classifier.predict(sample)\n",
    "\n",
    "print('Score', score)\n",
    "\n",
    "mask = Image.fromarray((mask * 255).astype(np.uint8))\n",
    "output = Image.fromarray((output * 255).astype(np.uint8))\n",
    "\n",
    "rgb = rgb.numpy().transpose(1, 2, 0)\n",
    "mask = pil2cv(mask)\n",
    "output = pil2cv(output)\n",
    "\n",
    "# cv2.imshow('RGB', rgb)\n",
    "# cv2.imshow('Original mask', mask)\n",
    "# cv2.imshow('Pytorch ouput', output)\n",
    "# cv2.waitKey(0)\n",
    "# cv2.destroyAllWindows()\n",
    "\n",
    "\n",
    "i += 1\n",
    "if i >= len(test_indices):\n",
    "    i = 0 "
   ]
  }
 ]
}