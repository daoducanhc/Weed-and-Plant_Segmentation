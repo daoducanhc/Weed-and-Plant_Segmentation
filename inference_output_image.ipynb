{
 "metadata": {
  "language_info": {
   "codemirror_mode": {
    "name": "ipython",
    "version": 3
   },
   "file_extension": ".py",
   "mimetype": "text/x-python",
   "name": "python",
   "nbconvert_exporter": "python",
   "pygments_lexer": "ipython3",
   "version": "3.8.5-final"
  },
  "orig_nbformat": 2,
  "kernelspec": {
   "name": "python3",
   "display_name": "Python 3"
  }
 },
 "nbformat": 4,
 "nbformat_minor": 2,
 "cells": [
  {
   "cell_type": "code",
   "execution_count": 4,
   "metadata": {},
   "outputs": [
    {
     "output_type": "stream",
     "name": "stdout",
     "text": [
      "cuda\n",
      "PyTorch score 0.8754796071172072\n",
      "Inference score 0.875594220801042\n",
      "{0: 783308, 255: 3124}\n",
      "{0: 783307, 255: 3125}\n"
     ]
    },
    {
     "output_type": "execute_result",
     "data": {
      "text/plain": [
       "<matplotlib.image.AxesImage at 0x7f96b1729d60>"
      ]
     },
     "metadata": {},
     "execution_count": 4
    },
    {
     "output_type": "display_data",
     "data": {
      "text/plain": "<Figure size 432x288 with 1 Axes>",
      "image/svg+xml": "<?xml version=\"1.0\" encoding=\"utf-8\" standalone=\"no\"?>\n<!DOCTYPE svg PUBLIC \"-//W3C//DTD SVG 1.1//EN\"\n  \"http://www.w3.org/Graphics/SVG/1.1/DTD/svg11.dtd\">\n<!-- Created with matplotlib (https://matplotlib.org/) -->\n<svg height=\"252.105pt\" version=\"1.1\" viewBox=\"0 0 262.587344 252.105\" width=\"262.587344pt\" xmlns=\"http://www.w3.org/2000/svg\" xmlns:xlink=\"http://www.w3.org/1999/xlink\">\n <defs>\n  <style type=\"text/css\">\n*{stroke-linecap:butt;stroke-linejoin:round;}\n  </style>\n </defs>\n <g id=\"figure_1\">\n  <g id=\"patch_1\">\n   <path d=\"M 0 252.105 \nL 262.587344 252.105 \nL 262.587344 0 \nL 0 0 \nz\n\" style=\"fill:none;\"/>\n  </g>\n  <g id=\"axes_1\">\n   <g id=\"patch_2\">\n    <path d=\"M 33.2875 228.226875 \nL 250.7275 228.226875 \nL 250.7275 10.786875 \nL 33.2875 10.786875 \nz\n\" style=\"fill:#ffffff;\"/>\n   </g>\n   <g clip-path=\"url(#p5e8e0a6926)\">\n    <image height=\"218\" id=\"imagef0b9a9b6b0\" transform=\"scale(1 -1)translate(0 -218)\" width=\"218\" x=\"33.2875\" xlink:href=\"data:image/png;base64,\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\" y=\"-10.226875\"/>\n   </g>\n   <g id=\"matplotlib.axis_1\">\n    <g id=\"xtick_1\">\n     <g id=\"line2d_1\">\n      <defs>\n       <path d=\"M 0 0 \nL 0 3.5 \n\" id=\"m87f86e5ce8\" style=\"stroke:#000000;stroke-width:0.8;\"/>\n      </defs>\n      <g>\n       <use style=\"stroke:#000000;stroke-width:0.8;\" x=\"33.499844\" xlink:href=\"#m87f86e5ce8\" y=\"228.226875\"/>\n      </g>\n     </g>\n     <g id=\"text_1\">\n      <!-- 0 -->\n      <defs>\n       <path d=\"M 31.78125 66.40625 \nQ 24.171875 66.40625 20.328125 58.90625 \nQ 16.5 51.421875 16.5 36.375 \nQ 16.5 21.390625 20.328125 13.890625 \nQ 24.171875 6.390625 31.78125 6.390625 \nQ 39.453125 6.390625 43.28125 13.890625 \nQ 47.125 21.390625 47.125 36.375 \nQ 47.125 51.421875 43.28125 58.90625 \nQ 39.453125 66.40625 31.78125 66.40625 \nz\nM 31.78125 74.21875 \nQ 44.046875 74.21875 50.515625 64.515625 \nQ 56.984375 54.828125 56.984375 36.375 \nQ 56.984375 17.96875 50.515625 8.265625 \nQ 44.046875 -1.421875 31.78125 -1.421875 \nQ 19.53125 -1.421875 13.0625 8.265625 \nQ 6.59375 17.96875 6.59375 36.375 \nQ 6.59375 54.828125 13.0625 64.515625 \nQ 19.53125 74.21875 31.78125 74.21875 \nz\n\" id=\"DejaVuSans-48\"/>\n      </defs>\n      <g transform=\"translate(30.318594 242.825312)scale(0.1 -0.1)\">\n       <use xlink:href=\"#DejaVuSans-48\"/>\n      </g>\n     </g>\n    </g>\n    <g id=\"xtick_2\">\n     <g id=\"line2d_2\">\n      <g>\n       <use style=\"stroke:#000000;stroke-width:0.8;\" x=\"75.968594\" xlink:href=\"#m87f86e5ce8\" y=\"228.226875\"/>\n      </g>\n     </g>\n     <g id=\"text_2\">\n      <!-- 100 -->\n      <defs>\n       <path d=\"M 12.40625 8.296875 \nL 28.515625 8.296875 \nL 28.515625 63.921875 \nL 10.984375 60.40625 \nL 10.984375 69.390625 \nL 28.421875 72.90625 \nL 38.28125 72.90625 \nL 38.28125 8.296875 \nL 54.390625 8.296875 \nL 54.390625 0 \nL 12.40625 0 \nz\n\" id=\"DejaVuSans-49\"/>\n      </defs>\n      <g transform=\"translate(66.424844 242.825312)scale(0.1 -0.1)\">\n       <use xlink:href=\"#DejaVuSans-49\"/>\n       <use x=\"63.623047\" xlink:href=\"#DejaVuSans-48\"/>\n       <use x=\"127.246094\" xlink:href=\"#DejaVuSans-48\"/>\n      </g>\n     </g>\n    </g>\n    <g id=\"xtick_3\">\n     <g id=\"line2d_3\">\n      <g>\n       <use style=\"stroke:#000000;stroke-width:0.8;\" x=\"118.437344\" xlink:href=\"#m87f86e5ce8\" y=\"228.226875\"/>\n      </g>\n     </g>\n     <g id=\"text_3\">\n      <!-- 200 -->\n      <defs>\n       <path d=\"M 19.1875 8.296875 \nL 53.609375 8.296875 \nL 53.609375 0 \nL 7.328125 0 \nL 7.328125 8.296875 \nQ 12.9375 14.109375 22.625 23.890625 \nQ 32.328125 33.6875 34.8125 36.53125 \nQ 39.546875 41.84375 41.421875 45.53125 \nQ 43.3125 49.21875 43.3125 52.78125 \nQ 43.3125 58.59375 39.234375 62.25 \nQ 35.15625 65.921875 28.609375 65.921875 \nQ 23.96875 65.921875 18.8125 64.3125 \nQ 13.671875 62.703125 7.8125 59.421875 \nL 7.8125 69.390625 \nQ 13.765625 71.78125 18.9375 73 \nQ 24.125 74.21875 28.421875 74.21875 \nQ 39.75 74.21875 46.484375 68.546875 \nQ 53.21875 62.890625 53.21875 53.421875 \nQ 53.21875 48.921875 51.53125 44.890625 \nQ 49.859375 40.875 45.40625 35.40625 \nQ 44.1875 33.984375 37.640625 27.21875 \nQ 31.109375 20.453125 19.1875 8.296875 \nz\n\" id=\"DejaVuSans-50\"/>\n      </defs>\n      <g transform=\"translate(108.893594 242.825312)scale(0.1 -0.1)\">\n       <use xlink:href=\"#DejaVuSans-50\"/>\n       <use x=\"63.623047\" xlink:href=\"#DejaVuSans-48\"/>\n       <use x=\"127.246094\" xlink:href=\"#DejaVuSans-48\"/>\n      </g>\n     </g>\n    </g>\n    <g id=\"xtick_4\">\n     <g id=\"line2d_4\">\n      <g>\n       <use style=\"stroke:#000000;stroke-width:0.8;\" x=\"160.906094\" xlink:href=\"#m87f86e5ce8\" y=\"228.226875\"/>\n      </g>\n     </g>\n     <g id=\"text_4\">\n      <!-- 300 -->\n      <defs>\n       <path d=\"M 40.578125 39.3125 \nQ 47.65625 37.796875 51.625 33 \nQ 55.609375 28.21875 55.609375 21.1875 \nQ 55.609375 10.40625 48.1875 4.484375 \nQ 40.765625 -1.421875 27.09375 -1.421875 \nQ 22.515625 -1.421875 17.65625 -0.515625 \nQ 12.796875 0.390625 7.625 2.203125 \nL 7.625 11.71875 \nQ 11.71875 9.328125 16.59375 8.109375 \nQ 21.484375 6.890625 26.8125 6.890625 \nQ 36.078125 6.890625 40.9375 10.546875 \nQ 45.796875 14.203125 45.796875 21.1875 \nQ 45.796875 27.640625 41.28125 31.265625 \nQ 36.765625 34.90625 28.71875 34.90625 \nL 20.21875 34.90625 \nL 20.21875 43.015625 \nL 29.109375 43.015625 \nQ 36.375 43.015625 40.234375 45.921875 \nQ 44.09375 48.828125 44.09375 54.296875 \nQ 44.09375 59.90625 40.109375 62.90625 \nQ 36.140625 65.921875 28.71875 65.921875 \nQ 24.65625 65.921875 20.015625 65.03125 \nQ 15.375 64.15625 9.8125 62.3125 \nL 9.8125 71.09375 \nQ 15.4375 72.65625 20.34375 73.4375 \nQ 25.25 74.21875 29.59375 74.21875 \nQ 40.828125 74.21875 47.359375 69.109375 \nQ 53.90625 64.015625 53.90625 55.328125 \nQ 53.90625 49.265625 50.4375 45.09375 \nQ 46.96875 40.921875 40.578125 39.3125 \nz\n\" id=\"DejaVuSans-51\"/>\n      </defs>\n      <g transform=\"translate(151.362344 242.825312)scale(0.1 -0.1)\">\n       <use xlink:href=\"#DejaVuSans-51\"/>\n       <use x=\"63.623047\" xlink:href=\"#DejaVuSans-48\"/>\n       <use x=\"127.246094\" xlink:href=\"#DejaVuSans-48\"/>\n      </g>\n     </g>\n    </g>\n    <g id=\"xtick_5\">\n     <g id=\"line2d_5\">\n      <g>\n       <use style=\"stroke:#000000;stroke-width:0.8;\" x=\"203.374844\" xlink:href=\"#m87f86e5ce8\" y=\"228.226875\"/>\n      </g>\n     </g>\n     <g id=\"text_5\">\n      <!-- 400 -->\n      <defs>\n       <path d=\"M 37.796875 64.3125 \nL 12.890625 25.390625 \nL 37.796875 25.390625 \nz\nM 35.203125 72.90625 \nL 47.609375 72.90625 \nL 47.609375 25.390625 \nL 58.015625 25.390625 \nL 58.015625 17.1875 \nL 47.609375 17.1875 \nL 47.609375 0 \nL 37.796875 0 \nL 37.796875 17.1875 \nL 4.890625 17.1875 \nL 4.890625 26.703125 \nz\n\" id=\"DejaVuSans-52\"/>\n      </defs>\n      <g transform=\"translate(193.831094 242.825312)scale(0.1 -0.1)\">\n       <use xlink:href=\"#DejaVuSans-52\"/>\n       <use x=\"63.623047\" xlink:href=\"#DejaVuSans-48\"/>\n       <use x=\"127.246094\" xlink:href=\"#DejaVuSans-48\"/>\n      </g>\n     </g>\n    </g>\n    <g id=\"xtick_6\">\n     <g id=\"line2d_6\">\n      <g>\n       <use style=\"stroke:#000000;stroke-width:0.8;\" x=\"245.843594\" xlink:href=\"#m87f86e5ce8\" y=\"228.226875\"/>\n      </g>\n     </g>\n     <g id=\"text_6\">\n      <!-- 500 -->\n      <defs>\n       <path d=\"M 10.796875 72.90625 \nL 49.515625 72.90625 \nL 49.515625 64.59375 \nL 19.828125 64.59375 \nL 19.828125 46.734375 \nQ 21.96875 47.46875 24.109375 47.828125 \nQ 26.265625 48.1875 28.421875 48.1875 \nQ 40.625 48.1875 47.75 41.5 \nQ 54.890625 34.8125 54.890625 23.390625 \nQ 54.890625 11.625 47.5625 5.09375 \nQ 40.234375 -1.421875 26.90625 -1.421875 \nQ 22.3125 -1.421875 17.546875 -0.640625 \nQ 12.796875 0.140625 7.71875 1.703125 \nL 7.71875 11.625 \nQ 12.109375 9.234375 16.796875 8.0625 \nQ 21.484375 6.890625 26.703125 6.890625 \nQ 35.15625 6.890625 40.078125 11.328125 \nQ 45.015625 15.765625 45.015625 23.390625 \nQ 45.015625 31 40.078125 35.4375 \nQ 35.15625 39.890625 26.703125 39.890625 \nQ 22.75 39.890625 18.8125 39.015625 \nQ 14.890625 38.140625 10.796875 36.28125 \nz\n\" id=\"DejaVuSans-53\"/>\n      </defs>\n      <g transform=\"translate(236.299844 242.825312)scale(0.1 -0.1)\">\n       <use xlink:href=\"#DejaVuSans-53\"/>\n       <use x=\"63.623047\" xlink:href=\"#DejaVuSans-48\"/>\n       <use x=\"127.246094\" xlink:href=\"#DejaVuSans-48\"/>\n      </g>\n     </g>\n    </g>\n   </g>\n   <g id=\"matplotlib.axis_2\">\n    <g id=\"ytick_1\">\n     <g id=\"line2d_7\">\n      <defs>\n       <path d=\"M 0 0 \nL -3.5 0 \n\" id=\"m44609dd5d3\" style=\"stroke:#000000;stroke-width:0.8;\"/>\n      </defs>\n      <g>\n       <use style=\"stroke:#000000;stroke-width:0.8;\" x=\"33.2875\" xlink:href=\"#m44609dd5d3\" y=\"10.999219\"/>\n      </g>\n     </g>\n     <g id=\"text_7\">\n      <!-- 0 -->\n      <g transform=\"translate(19.925 14.798437)scale(0.1 -0.1)\">\n       <use xlink:href=\"#DejaVuSans-48\"/>\n      </g>\n     </g>\n    </g>\n    <g id=\"ytick_2\">\n     <g id=\"line2d_8\">\n      <g>\n       <use style=\"stroke:#000000;stroke-width:0.8;\" x=\"33.2875\" xlink:href=\"#m44609dd5d3\" y=\"53.467969\"/>\n      </g>\n     </g>\n     <g id=\"text_8\">\n      <!-- 100 -->\n      <g transform=\"translate(7.2 57.267187)scale(0.1 -0.1)\">\n       <use xlink:href=\"#DejaVuSans-49\"/>\n       <use x=\"63.623047\" xlink:href=\"#DejaVuSans-48\"/>\n       <use x=\"127.246094\" xlink:href=\"#DejaVuSans-48\"/>\n      </g>\n     </g>\n    </g>\n    <g id=\"ytick_3\">\n     <g id=\"line2d_9\">\n      <g>\n       <use style=\"stroke:#000000;stroke-width:0.8;\" x=\"33.2875\" xlink:href=\"#m44609dd5d3\" y=\"95.936719\"/>\n      </g>\n     </g>\n     <g id=\"text_9\">\n      <!-- 200 -->\n      <g transform=\"translate(7.2 99.735937)scale(0.1 -0.1)\">\n       <use xlink:href=\"#DejaVuSans-50\"/>\n       <use x=\"63.623047\" xlink:href=\"#DejaVuSans-48\"/>\n       <use x=\"127.246094\" xlink:href=\"#DejaVuSans-48\"/>\n      </g>\n     </g>\n    </g>\n    <g id=\"ytick_4\">\n     <g id=\"line2d_10\">\n      <g>\n       <use style=\"stroke:#000000;stroke-width:0.8;\" x=\"33.2875\" xlink:href=\"#m44609dd5d3\" y=\"138.405469\"/>\n      </g>\n     </g>\n     <g id=\"text_10\">\n      <!-- 300 -->\n      <g transform=\"translate(7.2 142.204687)scale(0.1 -0.1)\">\n       <use xlink:href=\"#DejaVuSans-51\"/>\n       <use x=\"63.623047\" xlink:href=\"#DejaVuSans-48\"/>\n       <use x=\"127.246094\" xlink:href=\"#DejaVuSans-48\"/>\n      </g>\n     </g>\n    </g>\n    <g id=\"ytick_5\">\n     <g id=\"line2d_11\">\n      <g>\n       <use style=\"stroke:#000000;stroke-width:0.8;\" x=\"33.2875\" xlink:href=\"#m44609dd5d3\" y=\"180.874219\"/>\n      </g>\n     </g>\n     <g id=\"text_11\">\n      <!-- 400 -->\n      <g transform=\"translate(7.2 184.673437)scale(0.1 -0.1)\">\n       <use xlink:href=\"#DejaVuSans-52\"/>\n       <use x=\"63.623047\" xlink:href=\"#DejaVuSans-48\"/>\n       <use x=\"127.246094\" xlink:href=\"#DejaVuSans-48\"/>\n      </g>\n     </g>\n    </g>\n    <g id=\"ytick_6\">\n     <g id=\"line2d_12\">\n      <g>\n       <use style=\"stroke:#000000;stroke-width:0.8;\" x=\"33.2875\" xlink:href=\"#m44609dd5d3\" y=\"223.342969\"/>\n      </g>\n     </g>\n     <g id=\"text_12\">\n      <!-- 500 -->\n      <g transform=\"translate(7.2 227.142187)scale(0.1 -0.1)\">\n       <use xlink:href=\"#DejaVuSans-53\"/>\n       <use x=\"63.623047\" xlink:href=\"#DejaVuSans-48\"/>\n       <use x=\"127.246094\" xlink:href=\"#DejaVuSans-48\"/>\n      </g>\n     </g>\n    </g>\n   </g>\n   <g id=\"patch_3\">\n    <path d=\"M 33.2875 228.226875 \nL 33.2875 10.786875 \n\" style=\"fill:none;stroke:#000000;stroke-linecap:square;stroke-linejoin:miter;stroke-width:0.8;\"/>\n   </g>\n   <g id=\"patch_4\">\n    <path d=\"M 250.7275 228.226875 \nL 250.7275 10.786875 \n\" style=\"fill:none;stroke:#000000;stroke-linecap:square;stroke-linejoin:miter;stroke-width:0.8;\"/>\n   </g>\n   <g id=\"patch_5\">\n    <path d=\"M 33.2875 228.226875 \nL 250.7275 228.226875 \n\" style=\"fill:none;stroke:#000000;stroke-linecap:square;stroke-linejoin:miter;stroke-width:0.8;\"/>\n   </g>\n   <g id=\"patch_6\">\n    <path d=\"M 33.2875 10.786875 \nL 250.7275 10.786875 \n\" style=\"fill:none;stroke:#000000;stroke-linecap:square;stroke-linejoin:miter;stroke-width:0.8;\"/>\n   </g>\n  </g>\n </g>\n <defs>\n  <clipPath id=\"p5e8e0a6926\">\n   <rect height=\"217.44\" width=\"217.44\" x=\"33.2875\" y=\"10.786875\"/>\n  </clipPath>\n </defs>\n</svg>\n",
      "image/png": "[encoded data removed]"
     },
     "metadata": {
      "needs_background": "light"
     }
    }
   ],
   "source": [
    "import os\n",
    "import torch\n",
    "import numpy as np\n",
    "import setup.dataset as dataset\n",
    "import setup.ResUNet as ResUNet\n",
    "import setup.classifier as classifier\n",
    "from torch.utils.data import SubsetRandomSampler\n",
    "from PIL import Image\n",
    "import cv2\n",
    "import inference.engine as engine\n",
    "import inference.inference as inference\n",
    "import torch.nn.functional as F\n",
    "import tensorrt as trt\n",
    "import matplotlib.pyplot as plt\n",
    "import matplotlib.image as mpimg\n",
    "\n",
    "np.random.seed(0)\n",
    "torch.manual_seed(0)\n",
    "\n",
    "DATASET_PATH = 'dataset'\n",
    "\n",
    "device = torch.device('cuda' if torch.cuda.is_available() else 'cpu')\n",
    "print(device)\n",
    "\n",
    "def sampler_indices(length):\n",
    "    indices = list(range(length))\n",
    "    np.random.shuffle(indices)\n",
    "    split = int(np.floor(0.1 * length))\n",
    "    test_indices = indices[:split]\n",
    "    return test_indices\n",
    "\n",
    "weed_dataset = dataset.WeedDataset(DATASET_PATH, random_transform=False)\n",
    "\n",
    "test_indices = sampler_indices(len(weed_dataset))\n",
    "\n",
    "FILTER_LIST = [16,32,64,128,256]\n",
    "\n",
    "model = ResUNet.ResUNet(FILTER_LIST).to(device)\n",
    "path = 'outputs/ResUNet.pt'\n",
    "\n",
    "classifier = classifier.WeedClassifier(model, device)\n",
    "\n",
    "if str(device) == 'cpu':\n",
    "    classifier.model.load_state_dict(torch.load(path, map_location='cpu'))\n",
    "else:\n",
    "    classifier.model.load_state_dict(torch.load(path))\n",
    "\n",
    "image_index = test_indices[12]\n",
    "sample = weed_dataset[image_index]\n",
    "\n",
    "rgb, mask, output, score = classifier.predict(sample)\n",
    "\n",
    "print('PyTorch score', score)\n",
    "\n",
    "engine = engine.load_engine('outputs/ResUNet.plan')\n",
    "input = sample['image'].view((-1, 4, 512, 512))\n",
    "\n",
    "inference_output = inference.do_inference(engine, input)\n",
    "\n",
    "print('Inference score', classifier.miou(inference_output, sample['mask']))\n",
    "\n",
    "\n",
    "# inference_output = F.softmax(inference_output, dim=1, dtype=DATA_TYPE)\n",
    "inference_output = torch.argmax(inference_output, dim=1)\n",
    "\n",
    "# unique, counts = np.unique(np.array(inference_output), return_counts=True)\n",
    "# print(dict(zip(unique, counts)))\n",
    "\n",
    "inference_output = classifier.decode_segmap(inference_output)\n",
    "\n",
    "# now inference_output treat same as output\n",
    "\n",
    "inference_output = Image.fromarray((inference_output * 255).astype(np.uint8))\n",
    "\n",
    "unique, counts = np.unique(np.array(inference_output), return_counts=True)\n",
    "print(dict(zip(unique, counts)))\n",
    "\n",
    "output = Image.fromarray((output * 255).astype(np.uint8))\n",
    "unique, counts = np.unique(np.array(output), return_counts=True)\n",
    "print(dict(zip(unique, counts)))\n",
    "\n",
    "plt.imshow(inference_output)\n",
    "\n",
    "\n"
   ]
  }
 ]
}